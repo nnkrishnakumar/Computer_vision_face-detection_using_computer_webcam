{
 "cells": [
  {
   "cell_type": "code",
   "execution_count": 10,
   "metadata": {},
   "outputs": [],
   "source": [
    "import cv2\n",
    "vdo=cv2.VideoCapture(0)\n",
    "faceModel=cv2.CascadeClassifier(\"C:/Study Material/Ducat stuff/Python with ML_2nd joining video and dataset/dataset/haar/haarcascade_frontalface_default.xml\")\n",
    "eyeModel=cv2.CascadeClassifier(\"C:/Study Material/Ducat stuff/Python with ML_2nd joining video and dataset/dataset/haar/haarcascade_eye.xml\")\n",
    "\n",
    "while True:\n",
    "    flag,img=vdo.read()\n",
    "    if flag==False:\n",
    "        break\n",
    "    face_list=faceModel.detectMultiScale(img, minNeighbors=7,scaleFactor=1.3)\n",
    "    eye_list=eyeModel.detectMultiScale(img,minNeighbors=6,scaleFactor=1.1)\n",
    "    for x,y,w,h in face_list:\n",
    "        cv2.rectangle(img,(x,y),(x+w,y+h),(0,0,255),2)\n",
    "        for ex,ey,ew,eh in eye_list:\n",
    "            cv2.rectangle(img,(ex,ey),(ex+ew,ey+eh),(255,0,0),2)\n",
    "    cv2.imshow('title',img)\n",
    "    k=cv2.waitKey(5)\n",
    "    if k== ord('a'):\n",
    "        break\n",
    "cv2.destroyAllWindows()\n",
    "vdo.release()"
   ]
  },
  {
   "cell_type": "code",
   "execution_count": null,
   "metadata": {},
   "outputs": [],
   "source": []
  }
 ],
 "metadata": {
  "kernelspec": {
   "display_name": "Python 3",
   "language": "python",
   "name": "python3"
  },
  "language_info": {
   "codemirror_mode": {
    "name": "ipython",
    "version": 3
   },
   "file_extension": ".py",
   "mimetype": "text/x-python",
   "name": "python",
   "nbconvert_exporter": "python",
   "pygments_lexer": "ipython3",
   "version": "3.8.5"
  }
 },
 "nbformat": 4,
 "nbformat_minor": 4
}
